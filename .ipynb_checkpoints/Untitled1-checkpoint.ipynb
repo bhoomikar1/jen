{
 "cells": [
  {
   "cell_type": "code",
   "execution_count": 8,
   "id": "59099858-5419-405a-99e0-24eb02686134",
   "metadata": {},
   "outputs": [],
   "source": [
    "from PIL import Image,ImageEnhance"
   ]
  },
  {
   "cell_type": "code",
   "execution_count": 9,
   "id": "c9e16a26-e913-4d1e-845c-7e304f8e1f0f",
   "metadata": {},
   "outputs": [],
   "source": [
    "im=Image.open(\"picture.jpg\")"
   ]
  },
  {
   "cell_type": "code",
   "execution_count": 10,
   "id": "9adf7fdb-5bc7-4c70-838b-c56abe1e229e",
   "metadata": {},
   "outputs": [],
   "source": [
    "enhancer=ImageEnhance.Sharpness(im)"
   ]
  },
  {
   "cell_type": "code",
   "execution_count": 11,
   "id": "efaec71a-124d-4f2e-af1f-e114db4996b2",
   "metadata": {},
   "outputs": [],
   "source": [
    "factor=1\n",
    "im_output=enhancer.enhance(factor)\n",
    "im_output.save('original-image.png')\n"
   ]
  },
  {
   "cell_type": "code",
   "execution_count": 20,
   "id": "018fc7fb-0ea2-4707-9471-938a9a0e310e",
   "metadata": {},
   "outputs": [],
   "source": [
    "factor=0.005\n",
    "im_output=enhancer.enhance(factor)\n",
    "im_output.save('blurred-image.png')\n"
   ]
  },
  {
   "cell_type": "code",
   "execution_count": 18,
   "id": "c0e13dee-4a90-4918-981e-f3d4d9f26fdb",
   "metadata": {},
   "outputs": [],
   "source": [
    "factor=3\n",
    "im_output=enhancer.enhance(factor)\n",
    "im_output.save('sharpened-image.png')\n"
   ]
  },
  {
   "cell_type": "code",
   "execution_count": null,
   "id": "6975656b-ff50-4249-bab2-9dbd11bb4e8c",
   "metadata": {},
   "outputs": [],
   "source": []
  },
  {
   "cell_type": "code",
   "execution_count": null,
   "id": "b50237a2-c868-4536-bee7-6789412ed173",
   "metadata": {},
   "outputs": [],
   "source": []
  }
 ],
 "metadata": {
  "kernelspec": {
   "display_name": "Python 3",
   "language": "python",
   "name": "python3"
  },
  "language_info": {
   "codemirror_mode": {
    "name": "ipython",
    "version": 3
   },
   "file_extension": ".py",
   "mimetype": "text/x-python",
   "name": "python",
   "nbconvert_exporter": "python",
   "pygments_lexer": "ipython3",
   "version": "3.8.8"
  }
 },
 "nbformat": 4,
 "nbformat_minor": 5
}
