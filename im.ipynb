{
 "cells": [
  {
   "cell_type": "code",
   "execution_count": 8,
   "id": "fecbe1ce-4f0d-4802-a8b8-c222828560cc",
   "metadata": {},
   "outputs": [],
   "source": [
    "from PIL import Image,ImageEnhance"
   ]
  },
  {
   "cell_type": "code",
   "execution_count": 9,
   "id": "41a9f494-f8c7-4303-814a-374bf193efe3",
   "metadata": {},
   "outputs": [],
   "source": [
    "im=Image.open(\"pic.jpeg\")"
   ]
  },
  {
   "cell_type": "code",
   "execution_count": 10,
   "id": "5e29d496-723a-4784-a350-86333eed3016",
   "metadata": {},
   "outputs": [],
   "source": [
    "enhancer=ImageEnhance.Brightness(im)"
   ]
  },
  {
   "cell_type": "code",
   "execution_count": 11,
   "id": "08b17055-4705-4224-896b-5daf9493f319",
   "metadata": {},
   "outputs": [],
   "source": [
    "factor=1\n",
    "im_output=enhancer.enhance(factor)\n",
    "im_output.save('original1-image.png')\n"
   ]
  },
  {
   "cell_type": "code",
   "execution_count": 12,
   "id": "203ab741-7c79-4048-bfdf-aac9f3627164",
   "metadata": {},
   "outputs": [],
   "source": [
    "factor=0.5\n",
    "im_output=enhancer.enhance(factor)\n",
    "im_output.save('darkened-image.png')"
   ]
  },
  {
   "cell_type": "code",
   "execution_count": 13,
   "id": "949eaac3-0420-4c1b-854a-d3e7d0c693b2",
   "metadata": {},
   "outputs": [],
   "source": [
    "factor=2.0\n",
    "im_output=enhancer.enhance(factor)\n",
    "im_output.save('brightened-image.png')"
   ]
  },
  {
   "cell_type": "code",
   "execution_count": null,
   "id": "7225421f-998f-4c34-8644-5463a245dae4",
   "metadata": {},
   "outputs": [],
   "source": []
  },
  {
   "cell_type": "code",
   "execution_count": null,
   "id": "bb55d9cb-2371-497d-ae18-693afdefbf72",
   "metadata": {},
   "outputs": [],
   "source": []
  },
  {
   "cell_type": "code",
   "execution_count": null,
   "id": "482d268f-368c-4f7d-8235-53d70cd54b14",
   "metadata": {},
   "outputs": [],
   "source": []
  },
  {
   "cell_type": "code",
   "execution_count": null,
   "id": "3cc61da1-fd22-4367-8150-7fb3f54001a1",
   "metadata": {},
   "outputs": [],
   "source": []
  },
  {
   "cell_type": "code",
   "execution_count": null,
   "id": "9bc9b1dd-4d04-4720-ae7b-f48388befc1b",
   "metadata": {},
   "outputs": [],
   "source": []
  }
 ],
 "metadata": {
  "kernelspec": {
   "display_name": "Python 3",
   "language": "python",
   "name": "python3"
  },
  "language_info": {
   "codemirror_mode": {
    "name": "ipython",
    "version": 3
   },
   "file_extension": ".py",
   "mimetype": "text/x-python",
   "name": "python",
   "nbconvert_exporter": "python",
   "pygments_lexer": "ipython3",
   "version": "3.8.8"
  }
 },
 "nbformat": 4,
 "nbformat_minor": 5
}
